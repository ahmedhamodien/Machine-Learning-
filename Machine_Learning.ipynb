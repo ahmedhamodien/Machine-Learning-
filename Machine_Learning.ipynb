{
  "nbformat": 4,
  "nbformat_minor": 0,
  "metadata": {
    "colab": {
      "provenance": [],
      "authorship_tag": "ABX9TyMJIYpDOlBxp/6Vt+qFgZbs",
      "include_colab_link": true
    },
    "kernelspec": {
      "name": "python3",
      "display_name": "Python 3"
    },
    "language_info": {
      "name": "python"
    }
  },
  "cells": [
    {
      "cell_type": "markdown",
      "metadata": {
        "id": "view-in-github",
        "colab_type": "text"
      },
      "source": [
        "<a href=\"https://colab.research.google.com/github/ahmedhamodien/Machine-Learning-/blob/main/Machine_Learning.ipynb\" target=\"_parent\"><img src=\"https://colab.research.google.com/assets/colab-badge.svg\" alt=\"Open In Colab\"/></a>"
      ]
    },
    {
      "cell_type": "code",
      "execution_count": 2,
      "metadata": {
        "id": "52UslnDv9Tnk",
        "colab": {
          "base_uri": "https://localhost:8080/"
        },
        "outputId": "46977375-df0b-415c-890c-0bee8cff0a49"
      },
      "outputs": [
        {
          "output_type": "stream",
          "name": "stdout",
          "text": [
            "Cloning into 'Machine_Learning'...\n",
            "fatal: could not read Username for 'https://github.com': No such device or address\n",
            "[Errno 2] No such file or directory: 'face-mask-detection'\n",
            "/content\n"
          ]
        }
      ],
      "source": [
        "!git clone https://github.com/your_username/Machine_Learning.git\n",
        "%cd face-mask-detection\n"
      ]
    },
    {
      "cell_type": "markdown",
      "source": [
        "test test"
      ],
      "metadata": {
        "id": "qovKI73Z_J6N"
      }
    }
  ]
}